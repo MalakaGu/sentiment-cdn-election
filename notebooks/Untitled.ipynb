{
 "cells": [
  {
   "cell_type": "code",
   "execution_count": 4,
   "metadata": {},
   "outputs": [],
   "source": [
    "import pandas as pd\n",
    "from textblob import TextBlob"
   ]
  },
  {
   "cell_type": "code",
   "execution_count": 11,
   "metadata": {},
   "outputs": [
    {
     "data": {
      "text/html": [
       "<div>\n",
       "<style scoped>\n",
       "    .dataframe tbody tr th:only-of-type {\n",
       "        vertical-align: middle;\n",
       "    }\n",
       "\n",
       "    .dataframe tbody tr th {\n",
       "        vertical-align: top;\n",
       "    }\n",
       "\n",
       "    .dataframe thead th {\n",
       "        text-align: right;\n",
       "    }\n",
       "</style>\n",
       "<table border=\"1\" class=\"dataframe\">\n",
       "  <thead>\n",
       "    <tr style=\"text-align: right;\">\n",
       "      <th></th>\n",
       "      <th>handle</th>\n",
       "      <th>date</th>\n",
       "      <th>full_text</th>\n",
       "      <th>clean_tweet</th>\n",
       "      <th>polarity</th>\n",
       "      <th>subjectivity</th>\n",
       "    </tr>\n",
       "  </thead>\n",
       "  <tbody>\n",
       "    <tr>\n",
       "      <th>0</th>\n",
       "      <td>JustinTrudeau</td>\n",
       "      <td>2019-09-25</td>\n",
       "      <td>The #GrouseGrind is tough, but to get to the t...</td>\n",
       "      <td>grousegrind tough get top need keep moving for...</td>\n",
       "      <td>0.320370</td>\n",
       "      <td>0.777778</td>\n",
       "    </tr>\n",
       "    <tr>\n",
       "      <th>1</th>\n",
       "      <td>JustinTrudeau</td>\n",
       "      <td>2019-09-25</td>\n",
       "      <td>Our Liberal team will always support a woman’s...</td>\n",
       "      <td>liberal team always support womans right choos...</td>\n",
       "      <td>0.285714</td>\n",
       "      <td>0.535714</td>\n",
       "    </tr>\n",
       "    <tr>\n",
       "      <th>2</th>\n",
       "      <td>JustinTrudeau</td>\n",
       "      <td>2019-09-25</td>\n",
       "      <td>Surrey. Day/Jour 14. 🇨🇦 https://t.co/wZlxzNgTrj</td>\n",
       "      <td>surrey dayjour 14</td>\n",
       "      <td>0.000000</td>\n",
       "      <td>0.000000</td>\n",
       "    </tr>\n",
       "    <tr>\n",
       "      <th>3</th>\n",
       "      <td>JustinTrudeau</td>\n",
       "      <td>2019-09-25</td>\n",
       "      <td>Today, we celebrate the rich history and impor...</td>\n",
       "      <td>today celebrate rich history important contrib...</td>\n",
       "      <td>0.481250</td>\n",
       "      <td>0.825000</td>\n",
       "    </tr>\n",
       "    <tr>\n",
       "      <th>4</th>\n",
       "      <td>JustinTrudeau</td>\n",
       "      <td>2019-09-24</td>\n",
       "      <td>Tackling the climate crisis will take courage....</td>\n",
       "      <td>tackling climate crisis take courage itll take...</td>\n",
       "      <td>0.542857</td>\n",
       "      <td>0.467857</td>\n",
       "    </tr>\n",
       "  </tbody>\n",
       "</table>\n",
       "</div>"
      ],
      "text/plain": [
       "          handle        date  \\\n",
       "0  JustinTrudeau  2019-09-25   \n",
       "1  JustinTrudeau  2019-09-25   \n",
       "2  JustinTrudeau  2019-09-25   \n",
       "3  JustinTrudeau  2019-09-25   \n",
       "4  JustinTrudeau  2019-09-24   \n",
       "\n",
       "                                           full_text  \\\n",
       "0  The #GrouseGrind is tough, but to get to the t...   \n",
       "1  Our Liberal team will always support a woman’s...   \n",
       "2    Surrey. Day/Jour 14. 🇨🇦 https://t.co/wZlxzNgTrj   \n",
       "3  Today, we celebrate the rich history and impor...   \n",
       "4  Tackling the climate crisis will take courage....   \n",
       "\n",
       "                                         clean_tweet  polarity  subjectivity  \n",
       "0  grousegrind tough get top need keep moving for...  0.320370      0.777778  \n",
       "1  liberal team always support womans right choos...  0.285714      0.535714  \n",
       "2                                  surrey dayjour 14  0.000000      0.000000  \n",
       "3  today celebrate rich history important contrib...  0.481250      0.825000  \n",
       "4  tackling climate crisis take courage itll take...  0.542857      0.467857  "
      ]
     },
     "execution_count": 11,
     "metadata": {},
     "output_type": "execute_result"
    }
   ],
   "source": [
    "df_tweets = pd.read_csv(\"../data/twitter-data-clean.csv\")\n",
    "df_tweets[[\"handle\", \"date\", \"full_text\", \"clean_tweet\", \"polarity\", \"subjectivity\"]].head()"
   ]
  },
  {
   "cell_type": "code",
   "execution_count": null,
   "metadata": {},
   "outputs": [],
   "source": []
  }
 ],
 "metadata": {
  "kernelspec": {
   "display_name": "Python 3",
   "language": "python",
   "name": "python3"
  },
  "language_info": {
   "codemirror_mode": {
    "name": "ipython",
    "version": 3
   },
   "file_extension": ".py",
   "mimetype": "text/x-python",
   "name": "python",
   "nbconvert_exporter": "python",
   "pygments_lexer": "ipython3",
   "version": "3.7.3"
  }
 },
 "nbformat": 4,
 "nbformat_minor": 4
}
